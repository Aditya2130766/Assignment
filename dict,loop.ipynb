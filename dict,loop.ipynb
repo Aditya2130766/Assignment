{
 "cells": [
  {
   "cell_type": "code",
   "execution_count": 1,
   "id": "47402b5c-5e3b-4d87-b81b-88780de2afd6",
   "metadata": {},
   "outputs": [],
   "source": [
    "d  = {}"
   ]
  },
  {
   "cell_type": "code",
   "execution_count": 2,
   "id": "a86037ce-cd37-46e8-bb56-9100b9acae5d",
   "metadata": {},
   "outputs": [
    {
     "data": {
      "text/plain": [
       "dict"
      ]
     },
     "execution_count": 2,
     "metadata": {},
     "output_type": "execute_result"
    }
   ],
   "source": [
    "type(d)"
   ]
  },
  {
   "cell_type": "code",
   "execution_count": 3,
   "id": "506eb867-5f1c-43f8-9d95-fb20c913c234",
   "metadata": {},
   "outputs": [],
   "source": [
    " d1={'key': 'adit'}"
   ]
  },
  {
   "cell_type": "code",
   "execution_count": 4,
   "id": "43c25961-1915-4f0b-a7a4-28b008f2a0a3",
   "metadata": {},
   "outputs": [
    {
     "data": {
      "text/plain": [
       "{'key': 'adit'}"
      ]
     },
     "execution_count": 4,
     "metadata": {},
     "output_type": "execute_result"
    }
   ],
   "source": [
    " d1"
   ]
  },
  {
   "cell_type": "code",
   "execution_count": 8,
   "id": "a7bb2bc6-e78b-4387-ba87-bf7121354853",
   "metadata": {},
   "outputs": [],
   "source": [
    "d2 = {'name' :'adit', \"email\" :\"tftv@gail.com\" }"
   ]
  },
  {
   "cell_type": "code",
   "execution_count": 9,
   "id": "9febbdfd-e2c6-431c-b0c4-ba7a3fd2481a",
   "metadata": {},
   "outputs": [
    {
     "data": {
      "text/plain": [
       "{'name': 'adit', 'email': 'tftv@gail.com'}"
      ]
     },
     "execution_count": 9,
     "metadata": {},
     "output_type": "execute_result"
    }
   ],
   "source": [
    "d2"
   ]
  },
  {
   "cell_type": "code",
   "execution_count": 11,
   "id": "5bb0469e-d399-416e-9bb4-05e67fc146de",
   "metadata": {},
   "outputs": [],
   "source": [
    "d3={235:\"adit\" , True:2565}"
   ]
  },
  {
   "cell_type": "code",
   "execution_count": 12,
   "id": "b43dce11-6954-4bae-ad16-b5a00d9a727c",
   "metadata": {},
   "outputs": [
    {
     "data": {
      "text/plain": [
       "{235: 'adit', True: 2565}"
      ]
     },
     "execution_count": 12,
     "metadata": {},
     "output_type": "execute_result"
    }
   ],
   "source": [
    "d3"
   ]
  },
  {
   "cell_type": "code",
   "execution_count": 13,
   "id": "b24c632a-aaef-4556-819a-a32070ea8467",
   "metadata": {},
   "outputs": [
    {
     "data": {
      "text/plain": [
       "'adit'"
      ]
     },
     "execution_count": 13,
     "metadata": {},
     "output_type": "execute_result"
    }
   ],
   "source": [
    "d3[235]"
   ]
  },
  {
   "cell_type": "code",
   "execution_count": 14,
   "id": "0eb95c56-a583-4a6f-9f3b-a82269cc77e9",
   "metadata": {},
   "outputs": [
    {
     "data": {
      "text/plain": [
       "2565"
      ]
     },
     "execution_count": 14,
     "metadata": {},
     "output_type": "execute_result"
    }
   ],
   "source": [
    "d3[1]"
   ]
  },
  {
   "cell_type": "code",
   "execution_count": 15,
   "id": "d1d177a8-1f9f-49a9-9a01-867077141ede",
   "metadata": {},
   "outputs": [],
   "source": [
    "d4 ={'name ' : 'adit' , 'email':'ra@gmail.com' , 'name':'Aditya' }"
   ]
  },
  {
   "cell_type": "code",
   "execution_count": 16,
   "id": "2499b4cd-5fb9-4b6b-a07d-011c2718a811",
   "metadata": {},
   "outputs": [
    {
     "data": {
      "text/plain": [
       "{'name ': 'adit', 'email': 'ra@gmail.com', 'name': 'Aditya'}"
      ]
     },
     "execution_count": 16,
     "metadata": {},
     "output_type": "execute_result"
    }
   ],
   "source": [
    "d4"
   ]
  },
  {
   "cell_type": "code",
   "execution_count": 18,
   "id": "fe2e5402-d999-42ed-81db-425b54603922",
   "metadata": {},
   "outputs": [
    {
     "data": {
      "text/plain": [
       "'Aditya'"
      ]
     },
     "execution_count": 18,
     "metadata": {},
     "output_type": "execute_result"
    }
   ],
   "source": [
    "d4['name']"
   ]
  },
  {
   "cell_type": "code",
   "execution_count": 19,
   "id": "acf1cb9c-cfaf-4f8c-a301-092b471a5e33",
   "metadata": {},
   "outputs": [],
   "source": [
    "d5={\"company\": \"pwskills\" , \"course\":['web deev' , 'data science']}"
   ]
  },
  {
   "cell_type": "code",
   "execution_count": 20,
   "id": "435a31ee-b299-41fb-afab-1ba89fad0875",
   "metadata": {},
   "outputs": [
    {
     "data": {
      "text/plain": [
       "{'company': 'pwskills', 'course': ['web deev', 'data science']}"
      ]
     },
     "execution_count": 20,
     "metadata": {},
     "output_type": "execute_result"
    }
   ],
   "source": [
    "d5"
   ]
  },
  {
   "cell_type": "code",
   "execution_count": 21,
   "id": "66944597-61b7-4d62-b058-6c71b9fd6fa5",
   "metadata": {},
   "outputs": [
    {
     "data": {
      "text/plain": [
       "['web deev', 'data science']"
      ]
     },
     "execution_count": 21,
     "metadata": {},
     "output_type": "execute_result"
    }
   ],
   "source": [
    "d5[\"course\"]"
   ]
  },
  {
   "cell_type": "code",
   "execution_count": 23,
   "id": "4587c84e-25a2-4923-a97e-5ec4d857274e",
   "metadata": {},
   "outputs": [
    {
     "data": {
      "text/plain": [
       "'data science'"
      ]
     },
     "execution_count": 23,
     "metadata": {},
     "output_type": "execute_result"
    }
   ],
   "source": [
    "d5[\"course\"][1]"
   ]
  },
  {
   "cell_type": "code",
   "execution_count": 24,
   "id": "2ca17177-6b33-4e9c-a085-3594089a44bd",
   "metadata": {},
   "outputs": [],
   "source": [
    "d6 = {'number': [1,2,3,4] , 'assign':(1,2,3,45,8), 'launcg date': {28,12,22}}"
   ]
  },
  {
   "cell_type": "code",
   "execution_count": 25,
   "id": "b9f49b34-bdd2-4d24-bec0-d9609b2343f4",
   "metadata": {},
   "outputs": [],
   "source": [
    "##list,tuple ,set"
   ]
  },
  {
   "cell_type": "code",
   "execution_count": 26,
   "id": "527ab764-51b7-446a-945e-aa7b31e57ac8",
   "metadata": {},
   "outputs": [
    {
     "data": {
      "text/plain": [
       "{'company': 'pwskills', 'course': ['web deev', 'data science']}"
      ]
     },
     "execution_count": 26,
     "metadata": {},
     "output_type": "execute_result"
    }
   ],
   "source": [
    "d5"
   ]
  },
  {
   "cell_type": "code",
   "execution_count": 27,
   "id": "61cafc93-5753-41d2-bd9a-b4f547732c4a",
   "metadata": {},
   "outputs": [],
   "source": [
    "d5['mentor'] = ['sudhanshu' , 'krish' , 'anurag' , 'hayder']"
   ]
  },
  {
   "cell_type": "code",
   "execution_count": 28,
   "id": "e6479cad-5bfc-418e-adeb-0e81204dcf84",
   "metadata": {},
   "outputs": [
    {
     "data": {
      "text/plain": [
       "{'company': 'pwskills',\n",
       " 'course': ['web deev', 'data science'],\n",
       " 'mentor': ['sudhanshu', 'krish', 'anurag', 'hayder']}"
      ]
     },
     "execution_count": 28,
     "metadata": {},
     "output_type": "execute_result"
    }
   ],
   "source": [
    "d5"
   ]
  },
  {
   "cell_type": "code",
   "execution_count": 31,
   "id": "34dbcdae-8af7-45db-8eb5-64acb21d361c",
   "metadata": {},
   "outputs": [],
   "source": [
    "del d5['company']"
   ]
  },
  {
   "cell_type": "code",
   "execution_count": 32,
   "id": "d7733cc6-e4eb-412f-8e9f-1e7e4fc6958e",
   "metadata": {},
   "outputs": [
    {
     "data": {
      "text/plain": [
       "{'course': ['web deev', 'data science'],\n",
       " 'mentor': ['sudhanshu', 'krish', 'anurag', 'hayder']}"
      ]
     },
     "execution_count": 32,
     "metadata": {},
     "output_type": "execute_result"
    }
   ],
   "source": [
    "d5"
   ]
  },
  {
   "cell_type": "code",
   "execution_count": 34,
   "id": "485d3478-e909-4143-a168-494248601890",
   "metadata": {},
   "outputs": [
    {
     "data": {
      "text/plain": [
       "['course', 'mentor']"
      ]
     },
     "execution_count": 34,
     "metadata": {},
     "output_type": "execute_result"
    }
   ],
   "source": [
    "list(d5.keys())"
   ]
  },
  {
   "cell_type": "code",
   "execution_count": 35,
   "id": "be544fd8-05b6-4117-b457-05c7dc59c482",
   "metadata": {},
   "outputs": [
    {
     "data": {
      "text/plain": [
       "[['web deev', 'data science'], ['sudhanshu', 'krish', 'anurag', 'hayder']]"
      ]
     },
     "execution_count": 35,
     "metadata": {},
     "output_type": "execute_result"
    }
   ],
   "source": [
    "list(d5.values())"
   ]
  },
  {
   "cell_type": "code",
   "execution_count": 37,
   "id": "3bbed6fe-601f-450d-b416-4860d4ca606c",
   "metadata": {},
   "outputs": [
    {
     "data": {
      "text/plain": [
       "[('course', ['web deev', 'data science']),\n",
       " ('mentor', ['sudhanshu', 'krish', 'anurag', 'hayder'])]"
      ]
     },
     "execution_count": 37,
     "metadata": {},
     "output_type": "execute_result"
    }
   ],
   "source": [
    "list(d5.items())"
   ]
  },
  {
   "cell_type": "code",
   "execution_count": 38,
   "id": "83daa318-73ca-44c0-b829-8f4a95dca380",
   "metadata": {},
   "outputs": [
    {
     "data": {
      "text/plain": [
       "['web deev', 'data science']"
      ]
     },
     "execution_count": 38,
     "metadata": {},
     "output_type": "execute_result"
    }
   ],
   "source": [
    "d5.pop('course')"
   ]
  },
  {
   "cell_type": "code",
   "execution_count": 39,
   "id": "5c1fb14d-bde7-477d-bb59-d5e6e665bb0e",
   "metadata": {},
   "outputs": [],
   "source": [
    "##dic is mutable"
   ]
  },
  {
   "cell_type": "code",
   "execution_count": 10,
   "id": "db2bd156-86fc-4a42-8e76-a3181af87f3f",
   "metadata": {},
   "outputs": [
    {
     "name": "stdout",
     "output_type": "stream",
     "text": [
      "you will be a part o f A1 batch\n"
     ]
    }
   ],
   "source": [
    "marks = 65\n",
    "if marks >= 80 :\n",
    "    print(\"you will be part of A0 batch\")\n",
    "elif marks >= 60 and marks < 80:\n",
    "    print(\"you will be a part o f A1 batch\")\n",
    "elif marks >= 40 and marks < 60 :\n",
    "    print(\"you will be part of A2 batch\")\n",
    "else :\n",
    "        print(\"you will be part of A3 batch\")\n",
    "    \n"
   ]
  },
  {
   "cell_type": "code",
   "execution_count": 18,
   "id": "bcd84db0-ab17-441a-929f-221a46659391",
   "metadata": {},
   "outputs": [
    {
     "name": "stdin",
     "output_type": "stream",
     "text": [
      "enter your marks -55\n"
     ]
    },
    {
     "name": "stdout",
     "output_type": "stream",
     "text": [
      "you will be part of A3 batch\n"
     ]
    }
   ],
   "source": [
    "marks =int(input(\"enter your marks\"))\n",
    "if marks >= 80:\n",
    "    print(\"you will be part of A0 batch\")\n",
    "elif marks >= 60 and marks < 80 :\n",
    "        print(\"you will be part of A1 batch\")\n",
    "elif marks >= 40 and marks < 60 :\n",
    "        print(\"you will be part of A2 batch\")\n",
    "else:\n",
    "         print(\"you will be part of A3 batch\")"
   ]
  },
  {
   "cell_type": "code",
   "execution_count": 21,
   "id": "0d62afa3-fd56-43b7-a94d-a0683cc234df",
   "metadata": {},
   "outputs": [
    {
     "name": "stdin",
     "output_type": "stream",
     "text": [
      "enter price  7000\n"
     ]
    },
    {
     "name": "stdout",
     "output_type": "stream",
     "text": [
      "i will not purchase \n"
     ]
    }
   ],
   "source": [
    "price = int(input(\"enter price \"))\n",
    "if price > 1000:\n",
    "    print(\"i will not purchase \")\n",
    "else:\n",
    "        print(\"I WILL Buy\")"
   ]
  },
  {
   "cell_type": "code",
   "execution_count": 23,
   "id": "3854e033-fc0d-49be-a9f4-34fe5dbe6908",
   "metadata": {},
   "outputs": [
    {
     "name": "stdin",
     "output_type": "stream",
     "text": [
      "enter price  1500\n"
     ]
    },
    {
     "name": "stdout",
     "output_type": "stream",
     "text": [
      "i will not purchase \n",
      "its ok \n"
     ]
    }
   ],
   "source": [
    "price = int(input(\"enter price \"))\n",
    "if price > 1000:\n",
    "    print(\"i will not purchase \")\n",
    "if price > 5000:\n",
    "    print(\"this is too much\")\n",
    "elif price < 2000:\n",
    "    print(\"its ok \")\n",
    "else:\n",
    "    print(\"I WILL Buy\")"
   ]
  },
  {
   "cell_type": "code",
   "execution_count": 24,
   "id": "8b602754-fe2d-44fa-b3aa-c922fcbf9b69",
   "metadata": {},
   "outputs": [],
   "source": [
    "l = [1,2,3,4,5,6,7,8]"
   ]
  },
  {
   "cell_type": "code",
   "execution_count": 25,
   "id": "e98f40aa-5d2b-4050-9fb2-2ad981ebafd0",
   "metadata": {},
   "outputs": [
    {
     "ename": "TypeError",
     "evalue": "can only concatenate list (not \"int\") to list",
     "output_type": "error",
     "traceback": [
      "\u001b[0;31m---------------------------------------------------------------------------\u001b[0m",
      "\u001b[0;31mTypeError\u001b[0m                                 Traceback (most recent call last)",
      "Cell \u001b[0;32mIn[25], line 1\u001b[0m\n\u001b[0;32m----> 1\u001b[0m l \u001b[38;5;241m=\u001b[39m \u001b[43ml\u001b[49m\u001b[38;5;241;43m+\u001b[39;49m\u001b[38;5;241;43m1\u001b[39;49m\n",
      "\u001b[0;31mTypeError\u001b[0m: can only concatenate list (not \"int\") to list"
     ]
    }
   ],
   "source": [
    "l = l+1"
   ]
  },
  {
   "cell_type": "code",
   "execution_count": 26,
   "id": "d7b86569-a2f3-46c1-9bde-60b01d22fb33",
   "metadata": {},
   "outputs": [
    {
     "data": {
      "text/plain": [
       "2"
      ]
     },
     "execution_count": 26,
     "metadata": {},
     "output_type": "execute_result"
    }
   ],
   "source": [
    " l[0]+1"
   ]
  },
  {
   "cell_type": "code",
   "execution_count": 28,
   "id": "68371bf2-1754-4bdc-8142-e921c883474a",
   "metadata": {},
   "outputs": [],
   "source": [
    "l.append(l[0]+1)"
   ]
  },
  {
   "cell_type": "code",
   "execution_count": 29,
   "id": "7394d014-be82-47bb-bbe5-374c85a73127",
   "metadata": {},
   "outputs": [
    {
     "data": {
      "text/plain": [
       "[1, 2, 3, 4, 5, 6, 7, 8, 2]"
      ]
     },
     "execution_count": 29,
     "metadata": {},
     "output_type": "execute_result"
    }
   ],
   "source": [
    "l"
   ]
  },
  {
   "cell_type": "code",
   "execution_count": 30,
   "id": "8642f56c-f1b3-4b5e-b5be-82c23325c8f6",
   "metadata": {},
   "outputs": [
    {
     "data": {
      "text/plain": [
       "[1, 2, 3, 4, 5, 6, 7, 8, 2]"
      ]
     },
     "execution_count": 30,
     "metadata": {},
     "output_type": "execute_result"
    }
   ],
   "source": [
    "l"
   ]
  },
  {
   "cell_type": "code",
   "execution_count": 31,
   "id": "f77dd0a9-eff3-4c90-90ce-cf8013f3ab78",
   "metadata": {},
   "outputs": [],
   "source": [
    "l = [1,2,3,4,5,6,7,8]"
   ]
  },
  {
   "cell_type": "code",
   "execution_count": 35,
   "id": "531f28e9-d8a1-4f04-b9c1-9785890bfc2e",
   "metadata": {},
   "outputs": [
    {
     "name": "stdout",
     "output_type": "stream",
     "text": [
      "2\n",
      "3\n",
      "4\n",
      "5\n",
      "6\n",
      "7\n",
      "8\n",
      "9\n"
     ]
    },
    {
     "data": {
      "text/plain": [
       "[2, 3, 4, 5, 6, 7, 8, 9]"
      ]
     },
     "execution_count": 35,
     "metadata": {},
     "output_type": "execute_result"
    }
   ],
   "source": [
    "l1 = []\n",
    "for i in l :\n",
    "    print(i+1)\n",
    "    l1.append(i+1)\n",
    "l1"
   ]
  },
  {
   "cell_type": "code",
   "execution_count": 36,
   "id": "66a4ba16-105c-4b79-9ec8-3ca6a189cbc4",
   "metadata": {},
   "outputs": [
    {
     "data": {
      "text/plain": [
       "[1, 2, 3, 4, 5, 6, 7, 8]"
      ]
     },
     "execution_count": 36,
     "metadata": {},
     "output_type": "execute_result"
    }
   ],
   "source": [
    "l"
   ]
  },
  {
   "cell_type": "code",
   "execution_count": 37,
   "id": "94379767-fa4e-4ddc-8133-df9bb04806ee",
   "metadata": {},
   "outputs": [
    {
     "data": {
      "text/plain": [
       "[2, 3, 4, 5, 6, 7, 8, 9]"
      ]
     },
     "execution_count": 37,
     "metadata": {},
     "output_type": "execute_result"
    }
   ],
   "source": [
    "l1"
   ]
  },
  {
   "cell_type": "code",
   "execution_count": 38,
   "id": "747eed2c-9d82-4805-8739-eb791b90b7c7",
   "metadata": {},
   "outputs": [],
   "source": [
    "l = [\"sudh\",\"kumar\",\"pwskills\" , \"course\"]"
   ]
  },
  {
   "cell_type": "code",
   "execution_count": 42,
   "id": "3f6a7097-977b-4cc6-bdfa-984742090166",
   "metadata": {},
   "outputs": [
    {
     "name": "stdout",
     "output_type": "stream",
     "text": [
      "sudh\n",
      "kumar\n",
      "pwskills\n",
      "course\n"
     ]
    }
   ],
   "source": [
    "l3 = []\n",
    "for i in l:\n",
    "    print(i)\n",
    "    l3.append(i.upper())"
   ]
  },
  {
   "cell_type": "code",
   "execution_count": 43,
   "id": "548dfee7-0dfc-4a92-a686-0eaf3bee2a36",
   "metadata": {},
   "outputs": [
    {
     "data": {
      "text/plain": [
       "['SUDH', 'KUMAR', 'PWSKILLS', 'COURSE']"
      ]
     },
     "execution_count": 43,
     "metadata": {},
     "output_type": "execute_result"
    }
   ],
   "source": [
    "l3"
   ]
  },
  {
   "cell_type": "code",
   "execution_count": 44,
   "id": "d9e2b628-1e93-41fa-8e51-b944331dc5e0",
   "metadata": {},
   "outputs": [],
   "source": [
    "l = [1,2,3,4,5,\"sudh\", \"kumar\", 324,34.456,\"abc\"]"
   ]
  },
  {
   "cell_type": "code",
   "execution_count": 51,
   "id": "81094637-b841-4cc8-bfa7-e1c96be7792d",
   "metadata": {},
   "outputs": [],
   "source": [
    "l1numeric=[]\n",
    "l2string=[]\n",
    "for i in l :\n",
    "    if type(i) == int or type(i) == float :\n",
    "        l1numeric.append(i)\n",
    "    else :\n",
    "        l2string.append(i)\n",
    "    "
   ]
  },
  {
   "cell_type": "code",
   "execution_count": 52,
   "id": "faaa5f58-8c51-44ce-a91c-2801ef52ab53",
   "metadata": {},
   "outputs": [
    {
     "data": {
      "text/plain": [
       "[1, 2, 3, 4, 5, 324, 34.456]"
      ]
     },
     "execution_count": 52,
     "metadata": {},
     "output_type": "execute_result"
    }
   ],
   "source": [
    "l1numeric"
   ]
  },
  {
   "cell_type": "code",
   "execution_count": 53,
   "id": "091ba435-ec10-4353-852e-f635bd41214d",
   "metadata": {},
   "outputs": [
    {
     "data": {
      "text/plain": [
       "['sudh', 'kumar', 'abc']"
      ]
     },
     "execution_count": 53,
     "metadata": {},
     "output_type": "execute_result"
    }
   ],
   "source": [
    "l2string"
   ]
  },
  {
   "cell_type": "code",
   "execution_count": null,
   "id": "eed7118e-b56a-4372-88df-72443c0169ae",
   "metadata": {},
   "outputs": [],
   "source": []
  }
 ],
 "metadata": {
  "kernelspec": {
   "display_name": "Python 3 (ipykernel)",
   "language": "python",
   "name": "python3"
  },
  "language_info": {
   "codemirror_mode": {
    "name": "ipython",
    "version": 3
   },
   "file_extension": ".py",
   "mimetype": "text/x-python",
   "name": "python",
   "nbconvert_exporter": "python",
   "pygments_lexer": "ipython3",
   "version": "3.10.8"
  }
 },
 "nbformat": 4,
 "nbformat_minor": 5
}
